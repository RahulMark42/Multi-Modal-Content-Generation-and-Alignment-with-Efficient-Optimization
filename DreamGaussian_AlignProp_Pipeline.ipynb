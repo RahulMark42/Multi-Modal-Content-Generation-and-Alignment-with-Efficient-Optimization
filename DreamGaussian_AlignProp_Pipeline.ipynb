{
  "nbformat": 4,
  "nbformat_minor": 0,
  "metadata": {
    "colab": {
      "provenance": [],
      "gpuType": "T4"
    },
    "kernelspec": {
      "name": "python3",
      "display_name": "Python 3"
    },
    "language_info": {
      "name": "python"
    },
    "accelerator": "GPU"
  },
  "cells": [
    {
      "cell_type": "code",
      "source": [
        "!pip install -r requirements.txt  &> /dev/null\n",
        "%rm -r dreamgaussian\n",
        "!git clone https://github.com/dreamgaussian/dreamgaussian\n",
        "!pip install -q einops plyfile dearpygui huggingface_hub diffusers accelerate transformers xatlas trimesh PyMCubes pymeshlab rembg[gpu,cli] omegaconf ninja\n",
        "!pip install -q https://github.com/camenduru/diff-gaussian-rasterization/releases/download/v1.0/diff_gaussian_rasterization-0.0.0-cp310-cp310-linux_x86_64.1.whl\n",
        "!pip install -q https://github.com/camenduru/diff-gaussian-rasterization/releases/download/v1.0/simple_knn-0.0.0-cp310-cp310-linux_x86_64.1.whl\n",
        "!pip install -q git+https://github.com/ashawkey/kiuikit\n",
        "!pip install -q git+https://github.com/NVlabs/nvdiffrast\n"
      ],
      "metadata": {
        "colab": {
          "base_uri": "https://localhost:8080/"
        },
        "id": "FWpy5M9pf-_W",
        "outputId": "8c1c4b41-b3da-463f-9133-90d9a0d17797"
      },
      "execution_count": null,
      "outputs": [
        {
          "output_type": "stream",
          "name": "stdout",
          "text": [
            "Cloning into 'dreamgaussian'...\n",
            "remote: Enumerating objects: 120, done.\u001b[K\n",
            "remote: Counting objects: 100% (46/46), done.\u001b[K\n",
            "remote: Compressing objects: 100% (27/27), done.\u001b[K\n",
            "remote: Total 120 (delta 30), reused 21 (delta 19), pack-reused 74\u001b[K\n",
            "Receiving objects: 100% (120/120), 1.23 MiB | 3.16 MiB/s, done.\n",
            "Resolving deltas: 100% (49/49), done.\n",
            "\u001b[2K     \u001b[90m━━━━━━━━━━━━━━━━━━━━━━━━━━━━━━━━━━━━━━━━\u001b[0m \u001b[32m3.0/3.0 MB\u001b[0m \u001b[31m14.0 MB/s\u001b[0m eta \u001b[36m0:00:00\u001b[0m\n",
            "\u001b[2K     \u001b[90m━━━━━━━━━━━━━━━━━━━━━━━━━━━━━━━━━━━━━━━━\u001b[0m \u001b[32m2.9/2.9 MB\u001b[0m \u001b[31m15.5 MB/s\u001b[0m eta \u001b[36m0:00:00\u001b[0m\n",
            "\u001b[?25h  Preparing metadata (setup.py) ... \u001b[?25l\u001b[?25hdone\n",
            "  Preparing metadata (setup.py) ... \u001b[?25l\u001b[?25hdone\n"
          ]
        }
      ]
    },
    {
      "cell_type": "code",
      "source": [
        "import production_ready\n",
        "import os\n",
        "from IPython.display import Image, display\n",
        "from IPython.display import HTML\n",
        "from base64 import b64encode"
      ],
      "metadata": {
        "id": "th_4ptdCf87Q"
      },
      "execution_count": null,
      "outputs": []
    },
    {
      "cell_type": "code",
      "source": [
        "config = production_ready.prompt_user()"
      ],
      "metadata": {
        "colab": {
          "base_uri": "https://localhost:8080/"
        },
        "id": "OHmImCzegKnI",
        "outputId": "392d675a-6838-403c-a592-e88b33ef2c80"
      },
      "execution_count": null,
      "outputs": [
        {
          "name": "stdout",
          "output_type": "stream",
          "text": [
            "Please enter a prompt: cone\n"
          ]
        }
      ]
    },
    {
      "cell_type": "code",
      "source": [
        "log_dir = production_ready.generate_images(config)"
      ],
      "metadata": {
        "colab": {
          "base_uri": "https://localhost:8080/",
          "height": 401
        },
        "id": "sy1ZKLFRgPku",
        "outputId": "7e9add35-fd1f-4276-cd23-726087e6ca0e"
      },
      "execution_count": null,
      "outputs": [
        {
          "output_type": "stream",
          "name": "stderr",
          "text": [
            "\u001b[34m\u001b[1mwandb\u001b[0m: Currently logged in as: \u001b[33mrahulmark42\u001b[0m. Use \u001b[1m`wandb login --relogin`\u001b[0m to force relogin\n"
          ]
        },
        {
          "output_type": "display_data",
          "data": {
            "text/plain": [
              "<IPython.core.display.HTML object>"
            ],
            "text/html": [
              "Tracking run with wandb version 0.15.12"
            ]
          },
          "metadata": {}
        },
        {
          "output_type": "display_data",
          "data": {
            "text/plain": [
              "<IPython.core.display.HTML object>"
            ],
            "text/html": [
              "Run data is saved locally in <code>/content/wandb/run-20231012_091813-1do8x19r</code>"
            ]
          },
          "metadata": {}
        },
        {
          "output_type": "display_data",
          "data": {
            "text/plain": [
              "<IPython.core.display.HTML object>"
            ],
            "text/html": [
              "Syncing run <strong><a href='https://wandb.ai/rahulmark42/align-prop/runs/1do8x19r' target=\"_blank\">confused-vortex-25</a></strong> to <a href='https://wandb.ai/rahulmark42/align-prop' target=\"_blank\">Weights & Biases</a> (<a href='https://wandb.me/run' target=\"_blank\">docs</a>)<br/>"
            ]
          },
          "metadata": {}
        },
        {
          "output_type": "display_data",
          "data": {
            "text/plain": [
              "<IPython.core.display.HTML object>"
            ],
            "text/html": [
              " View project at <a href='https://wandb.ai/rahulmark42/align-prop' target=\"_blank\">https://wandb.ai/rahulmark42/align-prop</a>"
            ]
          },
          "metadata": {}
        },
        {
          "output_type": "display_data",
          "data": {
            "text/plain": [
              "<IPython.core.display.HTML object>"
            ],
            "text/html": [
              " View run at <a href='https://wandb.ai/rahulmark42/align-prop/runs/1do8x19r' target=\"_blank\">https://wandb.ai/rahulmark42/align-prop/runs/1do8x19r</a>"
            ]
          },
          "metadata": {}
        },
        {
          "output_type": "stream",
          "name": "stderr",
          "text": [
            "`text_config_dict` is provided which will be used to initialize `CLIPTextConfig`. The value `text_config[\"id2label\"]` will be overriden.\n",
            "`text_config_dict` is provided which will be used to initialize `CLIPTextConfig`. The value `text_config[\"id2label\"]` will be overriden.\n",
            "100%|██████████| 50/50 [00:43<00:00,  1.14it/s]\n",
            "/usr/local/lib/python3.10/dist-packages/torchvision/transforms/functional.py:1603: UserWarning: The default value of the antialias parameter of all the resizing transforms (Resize(), RandomResizedCrop(), etc.) will change from None to True in v0.17, in order to be consistent across the PIL and Tensor backends. To suppress this warning, directly pass antialias=True (recommended, future default), antialias=None (current default, which means False for Tensors and True for PIL), or antialias=False (only works on Tensors - PIL will still use antialiasing). This also applies if you are using the inference transforms from the models weights: update the call to weights.transforms(antialias=True).\n",
            "  warnings.warn(\n",
            "100%|██████████| 50/50 [00:41<00:00,  1.20it/s]\n"
          ]
        },
        {
          "output_type": "stream",
          "name": "stdout",
          "text": [
            "Evaluation results tensor(5.0547, device='cuda:0', dtype=torch.float16)\n",
            "cone\n",
            "cone\n",
            "cone\n",
            "cone\n",
            "cone\n",
            "cone\n",
            "cone\n",
            "cone\n"
          ]
        }
      ]
    },
    {
      "cell_type": "code",
      "source": [
        "def dream_gaussian_pipeline(log_dir):\n",
        "  file_list = os.listdir(log_dir)\n",
        "  for selected_file in file_list:\n",
        "    file_to_process = log_dir + '/' + selected_file\n",
        "    %run dreamgaussian/process.py {file_to_process}\n",
        "    NAME = selected_file[:-4]\n",
        "    IMAGE_PROCESSED = NAME + '_rgba.png'\n",
        "    Elevation = 0\n",
        "    %run dreamgaussian/main.py --config dreamgaussian/configs/image.yaml input={log_dir + '/' + IMAGE_PROCESSED} save_path={NAME} elevation={Elevation} force_cuda_rast=True\n",
        "    %run dreamgaussian/main2.py --config dreamgaussian/configs/image.yaml input={log_dir + '/' + IMAGE_PROCESSED} save_path={NAME} elevation={Elevation} force_cuda_rast=True"
      ],
      "metadata": {
        "id": "PHGBXFmK40ri"
      },
      "execution_count": null,
      "outputs": []
    },
    {
      "cell_type": "code",
      "source": [
        "%run -m kiui.render {log_dir  + '/' + NAME}.obj --save_video {log_dir + '/' +  NAME}.mp4 --wogui --force_cuda_rast\n",
        "def show_video(video_path, video_width=450):\n",
        "    video_file = open(video_path, \"r+b\").read()\n",
        "    video_url = f\"data:video/mp4;base64,{b64encode(video_file).decode()}\"\n",
        "    return HTML(f\"\"\"<video width={video_width} controls><source src=\"{video_url}\"></video>\"\"\")\n",
        "#show_video(f'{log_dir}/{selected_file}/{NAME}.mp4')"
      ],
      "metadata": {
        "id": "QN8pN3sZNgFJ"
      },
      "execution_count": null,
      "outputs": []
    }
  ]
}